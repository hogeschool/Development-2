{
 "cells": [
  {
   "cell_type": "markdown",
   "metadata": {},
   "source": [
    "# INFDEV02-2 (Development 2, 2018-19)"
   ]
  },
  {
   "cell_type": "markdown",
   "metadata": {},
   "source": [
    "## Scoring\n",
    "The theory results in a grade which is either PASS or FAIL. Each question awards one single point, if correctly answered. Students who score at least 75% of the total points will get a passing grade (PASS). For example, if the theory exam is made up by 12 questions in total, then a student needs to answer correctly at least 9 questions (since 8/12 = 67% and 9/12 = 75%) to get a PASS.\n",
    "\n",
    "Here below you can see some example of results. In the first column you find the percentage of correct answers given by the student. In the second column there is the corresponding grade in a scale from 0 to 10 that you will find in Osiris. The final result of this part of the exam can be seen in the third column: PASS (when the points percentage is greater than or equal to 75) or FAIL (otherwise).\n",
    "\n",
    "| Points percentage | Corresponding grade (from 0 to 10) | Result of the theory exam |\n",
    "| ----------------- |:------------------:|:-------------:|\n",
    "| 0%                | 0                  | FAIL          |\n",
    "| 12.5%             | 0.9                | FAIL          |\n",
    "| 25.0%             | 1.8                | FAIL          |\n",
    "| 37.5%             | 2.8                | FAIL          |\n",
    "| 50.0%             | 3.7                | FAIL          |\n",
    "| 62.5%             | 4.6                | FAIL          |\n",
    "| 75.0%             | 5.5                | PASS          |\n",
    "| 87.5%             | 7.8                | PASS          |\n",
    "| 100.0%            | 10                 | PASS          |\n",
    "\n",
    "\n",
    "The practice results in a full grade (from 0 to 10). Each assignment awards one single point, if correctly completed. The grade is computed as the percentage of points obtained, divided by 10. Students who score at least 55% of the total points will thus get a passing grade. For example, if a student completes 3 assignments out of 5, this means obtaining 3 points out of 5, which means 60% and corresponds thus to a 6 (60/10).\n",
    "\n",
    "**You receive the credit points for this course as soon as the theory result is PASS and the practice result is greater than or equal to 5.5**.\n",
    "\n",
    "Notice that, even though there are more FA's and MC's than BA's, the BA's require actively _writing code_, which is significantly more complex than reading code and describing states and bindings, seen that it combines technical understanding and creativity.\n",
    "\n",
    "#### Retake\n",
    "If only one of the exam parts is passed (theory or practice), then only the other will need to be retaken.\n",
    "\n",
    "#### Exam matrix\n",
    "The exam covers all learning goals.\n",
    "\n",
    "| Exam part     | ICODE         | ECODE         | WCODE         |\n",
    "| ------------- |:-------------:|:-------------:|:-------------:|\n",
    "| FA            |               | V             |               |\n",
    "| MC            | V             |               |               |\n",
    "| BA            |               |               | V             |\n"
   ]
  }
 ],
 "metadata": {
  "kernelspec": {
   "display_name": "Python 3",
   "language": "python",
   "name": "python3"
  },
  "language_info": {
   "codemirror_mode": {
    "name": "ipython",
    "version": 3
   },
   "file_extension": ".py",
   "mimetype": "text/x-python",
   "name": "python",
   "nbconvert_exporter": "python",
   "pygments_lexer": "ipython3",
   "version": "3.6.6"
  }
 },
 "nbformat": 4,
 "nbformat_minor": 1
}
